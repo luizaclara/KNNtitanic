{
  "cells": [
    {
      "cell_type": "markdown",
      "metadata": {
        "id": "view-in-github",
        "colab_type": "text"
      },
      "source": [
        "<a href=\"https://colab.research.google.com/github/luizaclara/KNNtitanic/blob/main/Trabalho_02ICD.ipynb\" target=\"_parent\"><img src=\"https://colab.research.google.com/assets/colab-badge.svg\" alt=\"Open In Colab\"/></a>"
      ]
    },
    {
      "cell_type": "markdown",
      "metadata": {
        "id": "ynOzyZkzWxUc"
      },
      "source": [
        "https://www.kaggle.com/c/titanic/data\n",
        "\n",
        "https://github.com/datasciencedojo/datasets/blob/master/titanic.csv\n",
        "\n",
        "PassengerId\n",
        "Survived\n",
        "Pclass\n",
        "Name\n",
        "Sex\n",
        "Age\n",
        "SibSp\n",
        "Parch\n",
        "Ticket\n",
        "Fare\n",
        "Cabin\n",
        "Embarked"
      ]
    },
    {
      "cell_type": "code",
      "execution_count": 1,
      "metadata": {
        "id": "YtZnvSF_WlnV"
      },
      "outputs": [],
      "source": [
        "import sklearn\n",
        "import pandas as pd\n",
        "from sklearn.metrics.pairwise import euclidean_distances\n",
        "from sklearn.model_selection import train_test_split\n",
        "from sklearn.preprocessing import OneHotEncoder\n",
        "from sklearn.metrics import confusion_matrix, accuracy_score\n",
        "import matplotlib.pyplot as plt\n"
      ]
    },
    {
      "cell_type": "markdown",
      "source": [
        "1. Implementação da Função para Seleção dos k Vizinhos Mais Próximos\n",
        "2. Classificação com Base nos k Vizinhos Mais Próximos"
      ],
      "metadata": {
        "id": "HaFz0fu0xaML"
      }
    },
    {
      "cell_type": "code",
      "execution_count": 2,
      "metadata": {
        "id": "QlMfRUOrY3Pb"
      },
      "outputs": [],
      "source": [
        "class KNN ():\n",
        "  def __init__(self,k=3):\n",
        "    self.k = k #hiperparâmetro\n",
        "\n",
        "  def fit(self,X,y):\n",
        "    dataframe = pd.DataFrame(data=X) #dados\n",
        "    dataframe['value'] = y #target\n",
        "    self.data = dataframe\n",
        "\n",
        "  def predict_one(self,x):\n",
        "    df = self.data\n",
        "    df['distance'] = euclidean_distances(df.iloc[:,:-1], [x]) #calcular distâncias usando norma euclidiana\n",
        "    df.sort_values(by='distance', inplace=True) #ordenar distâncias\n",
        "    top_k = df.head(self.k) #selecionar K mais próximos (Passo 1)\n",
        "    class_predict = top_k['value'].value_counts().idxmax() #pegar classe majoritária (Passo 2)\n",
        "    return class_predict\n",
        "\n",
        "  def predict(self, points):\n",
        "    return [self.predict_one(p) for p in points]\n",
        "\n",
        "    #distances = sorted(self.distance(x),lambda d:d [0])[:self.k]\n",
        "    #tags_count = {} # {tag : (contagem , soma das distancias)}\n",
        "\n",
        "    # for dist, tag in distances:\n",
        "    #   if tag not in tags_count:\n",
        "    #     count[tag] = (0, 0)\n",
        "    #   count[tag] = (count[tag][0] + 1, count[tag][1] + dist )\n",
        "\n",
        "    # # ordena em ordem decrescente a contagem e em ordem crescente a distância\n",
        "    # sorted_count = sorted(tags_count.items(), reverse = True, key= lambda x: (x[1][0], -x[1][1]))\n",
        "\n",
        "    # return sorted_count[0][0] # nome da categoria com mais contagem e menos distância\n",
        "\n",
        "  # def distance(self, point):\n",
        "  #   return list(zip(euclidean_distances(self.X, [point]), self.Y))\n"
      ]
    },
    {
      "cell_type": "code",
      "execution_count": 3,
      "metadata": {
        "id": "K9cESIsgbHqI"
      },
      "outputs": [],
      "source": [
        "dataframe = pd.read_csv(\"titanic.csv\")"
      ]
    },
    {
      "cell_type": "markdown",
      "source": [
        "\n",
        "3. Transformação de Features Categóricas em Numéricas\n",
        "\n",
        "*   As features categóricas Sex e Embarked serão transformadas em numéricas, no entanto, não representam uma ordenação natural. Portanto, será aplicada **OneHotEncode** para evitar enviezar o modelo.\n",
        "\n",
        "4. Análise da Necessidade de Normalização das Features Numéricas\n",
        "\n",
        "*   Devido à variação de valores das features, será aplicada a **normalização** dos valores.\n"
      ],
      "metadata": {
        "id": "QWeWWeW_xQfl"
      }
    },
    {
      "cell_type": "code",
      "execution_count": null,
      "metadata": {
        "id": "8CrqMxwZrKq6"
      },
      "outputs": [],
      "source": [
        "# Transformar a coluna 'Sex' e 'Embarked' em duas colunas (Passo 3)\n",
        "encoder = OneHotEncoder(sparse_output=False)\n",
        "encoded_data = encoder.fit_transform(dataframe[['Sex', 'Embarked']])\n",
        "encoded_dataframe = pd.DataFrame(encoded_data, columns=encoder.get_feature_names_out(['Sex', 'Embarked']))"
      ]
    },
    {
      "cell_type": "code",
      "execution_count": null,
      "metadata": {
        "id": "CJD57bfrsEGx"
      },
      "outputs": [],
      "source": [
        "# juntar os dataframes\n",
        "dataframe = pd.concat([dataframe, encoded_dataframe])"
      ]
    },
    {
      "cell_type": "code",
      "execution_count": null,
      "metadata": {
        "id": "upSI8IbN88UL"
      },
      "outputs": [],
      "source": [
        "# substituir valores nulos\n",
        "\n",
        "# preenche a idade com a média das idades\n",
        "dataframe['Age'] = dataframe['Age'].fillna(dataframe['Age'].mean())\n",
        "\n",
        "#preenche o sexo com o que aparece mais vezes\n",
        "# dataframe['Sex'] = dataframe['Sex'].fillna(dataframe['Sex'].mode())\n",
        "\n",
        "# drop no 'Embarked' porque tem poucos valores NaN\n",
        "dataframe.dropna(subset='Embarked', inplace=True)"
      ]
    },
    {
      "cell_type": "code",
      "execution_count": 4,
      "metadata": {
        "id": "m8fraU5w88UJ"
      },
      "outputs": [],
      "source": [
        "# Normalizar (Passo 4)\n",
        "for column in ['Age', 'Fare']:\n",
        "    dataframe[column] = dataframe[column]  / dataframe[column].abs().max()"
      ]
    },
    {
      "cell_type": "markdown",
      "source": [
        "5. Seleção de Features com Base na Correlação\n",
        "\n",
        "*   **PassengerId, Name, Ticket, Cabin** não agregam informações relevantes para o modelo, por se tratarem apenas de identificador, nome, número do ticket e da cabine, respectivamente. Serão dropados do dataset.\n",
        "\n",
        "*   **Pclass, Sex, Age, SibSp, Parch, Fare e Embarked** serão considerados para o treinamento e predição do modelo.\n",
        "\n",
        "*   **Survived** é o **target**.\n",
        "\n",
        "\n",
        "\n",
        "\n"
      ],
      "metadata": {
        "id": "OTsydNLZxuI-"
      }
    },
    {
      "cell_type": "code",
      "execution_count": null,
      "metadata": {
        "id": "vroYWl5dfQg0"
      },
      "outputs": [],
      "source": [
        "columns = ['Pclass', 'Age', 'SibSp', 'Parch', 'Fare'] + list(encoded_dataframe.columns)\n",
        "y = ['Survived']"
      ]
    },
    {
      "cell_type": "markdown",
      "source": [
        "6. Separação do Dataset em Conjuntos de Treino, Teste e Validação"
      ],
      "metadata": {
        "id": "AJYki443x0ZK"
      }
    },
    {
      "cell_type": "code",
      "execution_count": null,
      "metadata": {
        "id": "y8hBhHWOltjc"
      },
      "outputs": [],
      "source": [
        "X_train, X_test, y_train, y_test = train_test_split(dataframe[[col for col in columns]], dataframe[y], test_size=0.25, random_state=42)"
      ]
    },
    {
      "cell_type": "code",
      "execution_count": null,
      "metadata": {
        "id": "ixb462K788UN"
      },
      "outputs": [],
      "source": [
        "# testar vários valores de K\n",
        "values = [] # (k, acurácia)\n",
        "for k in range(1, 30, 4):\n",
        "    knn = KNN(k)\n",
        "    knn.fit(X_train, y_train)\n",
        "\n",
        "    y_pred = knn.predict(X_test)\n",
        "    conf_matrix = confusion_matrix(y_test, y_pred)\n",
        "    accuracy = accuracy_score(y_test, y_pred)\n",
        "    values.append((k, accuracy))"
      ]
    },
    {
      "cell_type": "markdown",
      "source": [
        "7. Avaliação de Diferentes Valores de k\n",
        "\n",
        "8. Avaliação do Melhor Modelo"
      ],
      "metadata": {
        "id": "tSAG3iFkx3-Y"
      }
    },
    {
      "cell_type": "code",
      "execution_count": null,
      "metadata": {
        "id": "J-7H_-IC88UN",
        "outputId": "ff17c6a1-288b-451f-f375-c105f4facf7c"
      },
      "outputs": [
        {
          "data": {
            "image/png": "[encoded data removed]",
            "text/plain": [
              "<Figure size 640x480 with 1 Axes>"
            ]
          },
          "metadata": {},
          "output_type": "display_data"
        }
      ],
      "source": [
        "# plotar em um gráfico\n",
        "\n",
        "fig = plt.figure()\n",
        "plt.xlabel('K')\n",
        "plt.ylabel('Acurácia')\n",
        "\n",
        "for x, y in values:\n",
        "    plt.plot(x, y, 'bo') # bo -> circulo azul\n",
        "plt.show()"
      ]
    }
  ],
  "metadata": {
    "colab": {
      "provenance": [],
      "include_colab_link": true
    },
    "kernelspec": {
      "display_name": "Python 3",
      "name": "python3"
    },
    "language_info": {
      "codemirror_mode": {
        "name": "ipython",
        "version": 3
      },
      "file_extension": ".py",
      "mimetype": "text/x-python",
      "name": "python",
      "nbconvert_exporter": "python",
      "pygments_lexer": "ipython3",
      "version": "3.11.7"
    }
  },
  "nbformat": 4,
  "nbformat_minor": 0
}