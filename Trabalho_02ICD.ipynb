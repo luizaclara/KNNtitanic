{
  "cells": [
    {
      "cell_type": "markdown",
      "metadata": {
        "colab_type": "text",
        "id": "view-in-github"
      },
      "source": [
        "<a href=\"https://colab.research.google.com/github/luizaclara/KNNtitanic/blob/main/Trabalho_02ICD.ipynb\" target=\"_parent\"><img src=\"https://colab.research.google.com/assets/colab-badge.svg\" alt=\"Open In Colab\"/></a>"
      ]
    },
    {
      "cell_type": "markdown",
      "metadata": {
        "id": "ynOzyZkzWxUc"
      },
      "source": [
        "https://www.kaggle.com/c/titanic/data\n",
        "\n",
        "https://github.com/datasciencedojo/datasets/blob/master/titanic.csv\n",
        "\n",
        "PassengerId\n",
        "Survived\n",
        "Pclass\n",
        "Name\n",
        "Sex\n",
        "Age\n",
        "SibSp\n",
        "Parch\n",
        "Ticket\n",
        "Fare\n",
        "Cabin\n",
        "Embarked"
      ]
    },
    {
      "cell_type": "code",
      "execution_count": 1,
      "metadata": {
        "id": "YtZnvSF_WlnV"
      },
      "outputs": [],
      "source": [
        "import sklearn\n",
        "import pandas as pd\n",
        "from sklearn.metrics.pairwise import euclidean_distances\n",
        "from sklearn.model_selection import train_test_split\n",
        "from sklearn.preprocessing import OneHotEncoder\n",
        "from sklearn.metrics import confusion_matrix, accuracy_score\n"
      ]
    },
    {
      "cell_type": "code",
      "execution_count": 2,
      "metadata": {
        "id": "QlMfRUOrY3Pb"
      },
      "outputs": [],
      "source": [
        "class KNN ():\n",
        "  def __init__(self,k=3):\n",
        "    self.k = k\n",
        "\n",
        "  def fit(self,X,Y):\n",
        "    self.X = X\n",
        "    self.Y = Y\n",
        "\n",
        "  def distance(self, point):\n",
        "    return list(zip(euclidean_distances(self.X, [point]), self.Y))\n",
        "\n",
        "  def predict_one(self,x):\n",
        "    distances = sorted(self.distance(x),lambda d:d [0])[:self.k]\n",
        "\n",
        "    tags_count = {} # {tag : (contagem , soma das distancias)}\n",
        "    \n",
        "    for dist, tag in distances:\n",
        "      if tag not in tags_count:\n",
        "        count[tag] = (0, 0)\n",
        "      count[tag] = (count[tag][0] + 1, count[tag][1] + dist )\n",
        "\n",
        "    # ordena em ordem decrescente a contagem e em ordem crescente a distância\n",
        "    sorted_count = sorted(tags_count.items(), reverse = True, key= lambda x: (x[1][0], -x[1][1]))\n",
        "    \n",
        "    return sorted_count[0][0] # nome da categoria com mais contagem e menos distância\n",
        "\n",
        "  def predict(self, points):\n",
        "    return [self.predict_one(p) for p in points]\n"
      ]
    },
    {
      "cell_type": "code",
      "execution_count": 3,
      "metadata": {
        "id": "K9cESIsgbHqI"
      },
      "outputs": [],
      "source": [
        "dataframe = pd.read_csv(\"titanic.csv\")"
      ]
    },
    {
      "cell_type": "code",
      "execution_count": 4,
      "metadata": {},
      "outputs": [],
      "source": [
        "# Normalizar\n",
        "for column in ['Age', 'Fare']:\n",
        "    dataframe[column] = dataframe[column]  / dataframe[column].abs().max() "
      ]
    },
    {
      "cell_type": "code",
      "execution_count": 5,
      "metadata": {
        "colab": {
          "base_uri": "https://localhost:8080/"
        },
        "id": "8CrqMxwZrKq6",
        "outputId": "a546b3b5-a647-46e6-e23b-c49e2960d830"
      },
      "outputs": [],
      "source": [
        "# Transformar a coluna 'Sex' e 'Embarked' em duas colunas\n",
        "encoder = OneHotEncoder(sparse_output=False)\n",
        "encoded_data = encoder.fit_transform(dataframe[['Sex', 'Embarked']])\n",
        "encoded_dataframe = pd.DataFrame(encoded_data, columns=encoder.get_feature_names_out(['Sex', 'Embarked']))"
      ]
    },
    {
      "cell_type": "code",
      "execution_count": 6,
      "metadata": {
        "id": "CJD57bfrsEGx"
      },
      "outputs": [],
      "source": [
        "# juntar os dataframes\n",
        "dataframe = pd.concat([dataframe, encoded_dataframe])"
      ]
    },
    {
      "cell_type": "code",
      "execution_count": 7,
      "metadata": {},
      "outputs": [],
      "source": [
        "# substituir valores nulos\n",
        "\n",
        "# preenche a idade com a média das idades\n",
        "dataframe['Age'] = dataframe['Age'].fillna(dataframe['Age'].mean()) \n",
        "\n",
        "#preenche o sexo com o que aparece mais vezes\n",
        "# dataframe['Sex'] = dataframe['Sex'].fillna(dataframe['Sex'].mode())\n",
        "\n",
        "# drop no 'Embarked' porque tem poucos valores NaN\n",
        "dataframe.dropna(subset='Embarked', inplace=True)"
      ]
    },
    {
      "cell_type": "code",
      "execution_count": 8,
      "metadata": {
        "id": "vroYWl5dfQg0"
      },
      "outputs": [],
      "source": [
        "columns = ['Pclass', 'Age', 'SibSp', 'Parch', 'Fare'] + list(encoded_dataframe.columns)\n",
        "y = ['Survived']"
      ]
    },
    {
      "cell_type": "code",
      "execution_count": 9,
      "metadata": {
        "id": "y8hBhHWOltjc"
      },
      "outputs": [],
      "source": [
        "X_train, X_test, y_train, y_test = train_test_split(dataframe[[col for col in columns]], dataframe[y], test_size=0.25, random_state=42)"
      ]
    },
    {
      "cell_type": "code",
      "execution_count": null,
      "metadata": {},
      "outputs": [],
      "source": [
        "values = []\n",
        "for k in range(1, 30, 4):\n",
        "    knn = KNN(k)\n",
        "    knn.fit(X_train, y_train)\n",
        "    \n",
        "    y_pred = knn.predict(X_test)\n",
        "    conf_matrix = confusion_matrix(y_test, y_pred)\n",
        "    accuracy = accuracy_score(y_test, y_pred)\n",
        "    values.append((accuracy, k))"
      ]
    }
  ],
  "metadata": {
    "colab": {
      "include_colab_link": true,
      "provenance": [],
      "toc_visible": true
    },
    "kernelspec": {
      "display_name": "Python 3",
      "name": "python3"
    },
    "language_info": {
      "codemirror_mode": {
        "name": "ipython",
        "version": 3
      },
      "file_extension": ".py",
      "mimetype": "text/x-python",
      "name": "python",
      "nbconvert_exporter": "python",
      "pygments_lexer": "ipython3",
      "version": "3.11.7"
    }
  },
  "nbformat": 4,
  "nbformat_minor": 0
}
